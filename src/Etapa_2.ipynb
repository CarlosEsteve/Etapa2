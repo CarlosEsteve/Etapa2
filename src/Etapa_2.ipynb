{
 "cells": [
  {
   "cell_type": "markdown",
   "metadata": {},
   "source": [
    "## IMPORTAR LIBRERIAS"
   ]
  },
  {
   "cell_type": "code",
   "execution_count": null,
   "metadata": {},
   "outputs": [],
   "source": [
    "import pandas as pd\n",
    "import numpy as np\n",
    "import os\n",
    "from tabulate import tabulate\n",
    "import warnings\n",
    "warnings.filterwarnings('ignore')"
   ]
  },
  {
   "cell_type": "markdown",
   "metadata": {},
   "source": [
    "## Cargar archivos"
   ]
  },
  {
   "cell_type": "code",
   "execution_count": null,
   "metadata": {},
   "outputs": [],
   "source": [
    "### Características Equipos\n",
    "\n",
    "equipos = pd.read_csv('../data/Caracteristicas_Equipos.csv')\n",
    "equipos_df = pd.DataFrame(equipos)"
   ]
  },
  {
   "cell_type": "code",
   "execution_count": 99,
   "metadata": {},
   "outputs": [],
   "source": [
    "### Historicos Ordenes\n",
    "\n",
    "ordenes = pd.read_csv('../data/Historicos_Ordenes.csv')\n",
    "ordenes_df = pd.DataFrame(ordenes)"
   ]
  },
  {
   "cell_type": "code",
   "execution_count": null,
   "metadata": {},
   "outputs": [],
   "source": [
    "### Registros Condiciones\n",
    "\n",
    "condiciones = pd.read_csv('../data/Registros_Condiciones.csv')\n",
    "condiciones_df = pd.DataFrame(condiciones)"
   ]
  },
  {
   "cell_type": "markdown",
   "metadata": {},
   "source": [
    "### LIMPIEZA Y PERFILADO DE CARACTERISTICAS EQUIPOS"
   ]
  },
  {
   "cell_type": "code",
   "execution_count": null,
   "metadata": {},
   "outputs": [],
   "source": [
    "# Mostrar las primeras filas de cada dataset\n",
    "equipos_df.head()"
   ]
  },
  {
   "cell_type": "code",
   "execution_count": null,
   "metadata": {},
   "outputs": [],
   "source": [
    "# Revisar info del df\n",
    "equipos_df.info()"
   ]
  },
  {
   "cell_type": "code",
   "execution_count": null,
   "metadata": {},
   "outputs": [],
   "source": [
    "# Datos vacios\n",
    "print('Datos vacios en Caracteristicas_Equipos.csv\\n',equipos_df.isna().sum())"
   ]
  },
  {
   "cell_type": "code",
   "execution_count": null,
   "metadata": {},
   "outputs": [],
   "source": [
    "# Extremos\n",
    "z_scores = (equipos_df-equipos_df.mean(numeric_only=True)) / \\\n",
    "    equipos_df.std(numeric_only=True)\n",
    "z_scores_abs = z_scores.apply(np.abs)\n",
    "print(tabulate(z_scores_abs, headers='keys'))"
   ]
  },
  {
   "cell_type": "code",
   "execution_count": null,
   "metadata": {},
   "outputs": [],
   "source": [
    "umbral = 3\n",
    "\n",
    "out_mask = ~z_scores[z_scores_abs > umbral].isna()\n",
    "print('\\nOutliers per column:\\n')\n",
    "print(out_mask.sum())"
   ]
  },
  {
   "cell_type": "code",
   "execution_count": null,
   "metadata": {},
   "outputs": [],
   "source": [
    "# Mostrar todas las filas duplicadas\n",
    "print('\\nSumatorio duplicados en sales', equipos_df.duplicated().sum())\n",
    "equipos_df[equipos_df.duplicated(keep=False)]"
   ]
  },
  {
   "cell_type": "code",
   "execution_count": null,
   "metadata": {},
   "outputs": [],
   "source": [
    "# Elimino filas duplicadas\n",
    "\n",
    "equipos_df_clean = equipos_df.drop_duplicates(keep='first')\n",
    "print('\\nSumatorio duplicados en equipos_df:', equipos_df_clean.duplicated().sum())\n"
   ]
  },
  {
   "cell_type": "code",
   "execution_count": null,
   "metadata": {},
   "outputs": [],
   "source": [
    "equipos_df_clean"
   ]
  },
  {
   "cell_type": "code",
   "execution_count": null,
   "metadata": {},
   "outputs": [],
   "source": [
    "equipos_df_clean.info()"
   ]
  },
  {
   "cell_type": "code",
   "execution_count": null,
   "metadata": {},
   "outputs": [],
   "source": [
    "# Cardinalidad\n",
    "\n",
    "# Calcular el sumatorio de valores para cada columna\n",
    "sum_values_sales = equipos_df_clean.count()\n",
    "\n",
    "# Calcular el sumatorio de valores únicos para cada columna\n",
    "unique_sum_sales = equipos_df_clean.nunique()\n",
    "\n",
    "# Crear un nuevo DataFrame para mostrar ambos sumatorios\n",
    "result_df_equipos = pd.DataFrame({\n",
    "    'Sumatorio de valores': sum_values_sales,\n",
    "    'Sumatorio de valores únicos': unique_sum_sales\n",
    "})\n",
    "\n",
    "print(result_df_equipos)"
   ]
  },
  {
   "cell_type": "code",
   "execution_count": null,
   "metadata": {},
   "outputs": [],
   "source": [
    "# Columnas a 'category'\n",
    "\n",
    "equipos_df_clean[['Tipo_Equipo', 'Fabricante', 'Modelo']] = equipos_df_clean[[\n",
    "    'Tipo_Equipo', 'Fabricante', 'Modelo']].astype('category')\n",
    "\n",
    "equipos_df_clean.info()"
   ]
  },
  {
   "cell_type": "code",
   "execution_count": null,
   "metadata": {},
   "outputs": [],
   "source": [
    "equipos_df_clean.describe()"
   ]
  },
  {
   "cell_type": "code",
   "execution_count": null,
   "metadata": {},
   "outputs": [],
   "source": [
    "equipos_df_clean.describe(include='category')"
   ]
  },
  {
   "cell_type": "code",
   "execution_count": null,
   "metadata": {},
   "outputs": [],
   "source": [
    "# Existen equipos con Potencia menor de 0\n",
    "\n",
    "print(\"\\nEquipos con potencia <0 kW:\", len(equipos_df_clean[equipos_df_clean['Potencia_kW'] < 0]))\n",
    "equipos_df_clean[equipos_df_clean['Potencia_kW'] < 0]"
   ]
  },
  {
   "cell_type": "code",
   "execution_count": null,
   "metadata": {},
   "outputs": [],
   "source": [
    "# Value_counts te muestra cuantos valores hay de cada valor único en la columna selecionada\n",
    "\n",
    "print(equipos_df_clean[['Tipo_Equipo', 'Fabricante', 'Modelo']].value_counts())"
   ]
  },
  {
   "cell_type": "code",
   "execution_count": null,
   "metadata": {},
   "outputs": [],
   "source": [
    "# Frecuencias en equipos\n",
    "\n",
    "for col in equipos_df_clean.columns:\n",
    "    print('\\n- Frecuencias para \"{0}\"'.format(col), '\\n')\n",
    "    print(equipos_df_clean[col].value_counts())"
   ]
  },
  {
   "cell_type": "code",
   "execution_count": null,
   "metadata": {},
   "outputs": [],
   "source": [
    "# Correlación\n",
    "\n",
    "corr_equipos = equipos_df_clean.corr('pearson', numeric_only=True)\n",
    "corr_equipos"
   ]
  },
  {
   "cell_type": "code",
   "execution_count": null,
   "metadata": {},
   "outputs": [],
   "source": [
    "# Correlación\n",
    "\n",
    "corr_equipos[(np.abs(corr_equipos) >= 0.7) & (np.abs(corr_equipos) >= 0.7)]"
   ]
  },
  {
   "cell_type": "code",
   "execution_count": null,
   "metadata": {},
   "outputs": [],
   "source": [
    "# Sesgo\n",
    "\n",
    "skw_equipos = equipos_df_clean.skew(numeric_only=True)\n",
    "skw_equipos"
   ]
  },
  {
   "cell_type": "code",
   "execution_count": null,
   "metadata": {},
   "outputs": [],
   "source": [
    "# Sesgo sales\n",
    "\n",
    "skw_equipos[np.abs(skw_equipos) > 2]"
   ]
  },
  {
   "cell_type": "code",
   "execution_count": null,
   "metadata": {},
   "outputs": [],
   "source": [
    "# Kurtosis\n",
    "\n",
    "kurt_equipos = equipos_df_clean.kurt(numeric_only=True)\n",
    "kurt_equipos"
   ]
  },
  {
   "cell_type": "code",
   "execution_count": null,
   "metadata": {},
   "outputs": [],
   "source": [
    "# Kurtosis\n",
    "\n",
    "kurt_equipos[np.abs(kurt_equipos) > 3]"
   ]
  },
  {
   "cell_type": "code",
   "execution_count": null,
   "metadata": {},
   "outputs": [],
   "source": [
    "# Evaluar la unicidad de posibles claves primarias\n",
    "\n",
    "# Crear una lista para almacenar los resultados\n",
    "unike_keys_equipos = []\n",
    "\n",
    "# Iterar sobre cada columna del DataFrame\n",
    "for column in equipos_df_clean.columns:\n",
    "    # Verificar si la columna tiene valores únicos\n",
    "    if equipos_df_clean[column].is_unique:\n",
    "        unike_keys_equipos.append(column)\n",
    "\n",
    "# Mostrar las posibles claves primarias\n",
    "print(\"Posibles claves primarias en equipos_df_clean:\")\n",
    "print(unike_keys_equipos)"
   ]
  },
  {
   "cell_type": "markdown",
   "metadata": {},
   "source": [
    "### LIMPIEZA Y PERFILADO DE HISTORICOS ORDENES"
   ]
  },
  {
   "cell_type": "code",
   "execution_count": 100,
   "metadata": {},
   "outputs": [
    {
     "data": {
      "text/html": [
       "<div>\n",
       "<style scoped>\n",
       "    .dataframe tbody tr th:only-of-type {\n",
       "        vertical-align: middle;\n",
       "    }\n",
       "\n",
       "    .dataframe tbody tr th {\n",
       "        vertical-align: top;\n",
       "    }\n",
       "\n",
       "    .dataframe thead th {\n",
       "        text-align: right;\n",
       "    }\n",
       "</style>\n",
       "<table border=\"1\" class=\"dataframe\">\n",
       "  <thead>\n",
       "    <tr style=\"text-align: right;\">\n",
       "      <th></th>\n",
       "      <th>ID_Orden</th>\n",
       "      <th>ID_Equipo</th>\n",
       "      <th>Fecha</th>\n",
       "      <th>Tipo_Mantenimiento</th>\n",
       "      <th>Costo_Mantenimiento</th>\n",
       "      <th>Duracion_Horas</th>\n",
       "      <th>Ubicacion</th>\n",
       "    </tr>\n",
       "  </thead>\n",
       "  <tbody>\n",
       "    <tr>\n",
       "      <th>0</th>\n",
       "      <td>1</td>\n",
       "      <td>465</td>\n",
       "      <td>2020-01-01 00:00:00</td>\n",
       "      <td>Correctivo</td>\n",
       "      <td>1405.20</td>\n",
       "      <td>47</td>\n",
       "      <td>Planta Norte</td>\n",
       "    </tr>\n",
       "    <tr>\n",
       "      <th>1</th>\n",
       "      <td>2</td>\n",
       "      <td>418</td>\n",
       "      <td>2020-01-01 01:00:00</td>\n",
       "      <td>Correctivo</td>\n",
       "      <td>5922.92</td>\n",
       "      <td>38</td>\n",
       "      <td>Planta Norte</td>\n",
       "    </tr>\n",
       "    <tr>\n",
       "      <th>2</th>\n",
       "      <td>3</td>\n",
       "      <td>228</td>\n",
       "      <td>2020-01-01 02:00:00</td>\n",
       "      <td>Correctivo</td>\n",
       "      <td>7119.05</td>\n",
       "      <td>34</td>\n",
       "      <td>Planta Oeste</td>\n",
       "    </tr>\n",
       "    <tr>\n",
       "      <th>3</th>\n",
       "      <td>4</td>\n",
       "      <td>300</td>\n",
       "      <td>2020-01-01 03:00:00</td>\n",
       "      <td>Correctivo</td>\n",
       "      <td>3488.33</td>\n",
       "      <td>38</td>\n",
       "      <td>Planta Oeste</td>\n",
       "    </tr>\n",
       "    <tr>\n",
       "      <th>4</th>\n",
       "      <td>5</td>\n",
       "      <td>325</td>\n",
       "      <td>2020-01-01 04:00:00</td>\n",
       "      <td>Correctivo</td>\n",
       "      <td>5611.37</td>\n",
       "      <td>15</td>\n",
       "      <td>Planta Este</td>\n",
       "    </tr>\n",
       "  </tbody>\n",
       "</table>\n",
       "</div>"
      ],
      "text/plain": [
       "   ID_Orden  ID_Equipo                Fecha Tipo_Mantenimiento  \\\n",
       "0         1        465  2020-01-01 00:00:00         Correctivo   \n",
       "1         2        418  2020-01-01 01:00:00         Correctivo   \n",
       "2         3        228  2020-01-01 02:00:00         Correctivo   \n",
       "3         4        300  2020-01-01 03:00:00         Correctivo   \n",
       "4         5        325  2020-01-01 04:00:00         Correctivo   \n",
       "\n",
       "   Costo_Mantenimiento  Duracion_Horas     Ubicacion  \n",
       "0              1405.20              47  Planta Norte  \n",
       "1              5922.92              38  Planta Norte  \n",
       "2              7119.05              34  Planta Oeste  \n",
       "3              3488.33              38  Planta Oeste  \n",
       "4              5611.37              15   Planta Este  "
      ]
     },
     "execution_count": 100,
     "metadata": {},
     "output_type": "execute_result"
    }
   ],
   "source": [
    "# Mostrar las primeras filas de cada dataset\n",
    "ordenes_df.head()"
   ]
  },
  {
   "cell_type": "code",
   "execution_count": 101,
   "metadata": {},
   "outputs": [
    {
     "name": "stdout",
     "output_type": "stream",
     "text": [
      "<class 'pandas.core.frame.DataFrame'>\n",
      "RangeIndex: 10020 entries, 0 to 10019\n",
      "Data columns (total 7 columns):\n",
      " #   Column               Non-Null Count  Dtype  \n",
      "---  ------               --------------  -----  \n",
      " 0   ID_Orden             10020 non-null  int64  \n",
      " 1   ID_Equipo            10020 non-null  int64  \n",
      " 2   Fecha                10020 non-null  object \n",
      " 3   Tipo_Mantenimiento   10020 non-null  object \n",
      " 4   Costo_Mantenimiento  9970 non-null   float64\n",
      " 5   Duracion_Horas       10020 non-null  int64  \n",
      " 6   Ubicacion            10020 non-null  object \n",
      "dtypes: float64(1), int64(3), object(3)\n",
      "memory usage: 548.1+ KB\n"
     ]
    }
   ],
   "source": [
    "# Revisar info del df\n",
    "ordenes_df.info()"
   ]
  },
  {
   "cell_type": "code",
   "execution_count": 102,
   "metadata": {},
   "outputs": [
    {
     "name": "stdout",
     "output_type": "stream",
     "text": [
      "Datos vacios en Caracteristicas_Equipos.csv\n",
      " ID_Orden                0\n",
      "ID_Equipo               0\n",
      "Fecha                   0\n",
      "Tipo_Mantenimiento      0\n",
      "Costo_Mantenimiento    50\n",
      "Duracion_Horas          0\n",
      "Ubicacion               0\n",
      "dtype: int64\n"
     ]
    }
   ],
   "source": [
    "# Datos vacios\n",
    "print('Datos vacios en Caracteristicas_Equipos.csv\\n',ordenes_df.isna().sum())"
   ]
  },
  {
   "cell_type": "code",
   "execution_count": 103,
   "metadata": {},
   "outputs": [
    {
     "name": "stdout",
     "output_type": "stream",
     "text": [
      "        ID_Orden    ID_Equipo  Fecha                Tipo_Mantenimiento      Costo_Mantenimiento    Duracion_Horas  Ubicacion\n",
      "----  ----------  -----------  -------------------  --------------------  ---------------------  ----------------  -----------\n",
      "1228        1229          348  2020-02-21 04:00:00  Preventivo                           nan                   15  Planta Este\n",
      "4424        4425          348  2020-07-03 08:00:00  Correctivo                          9642.19                15  Planta Este\n",
      "        ID_Orden    ID_Equipo  Fecha                Tipo_Mantenimiento      Costo_Mantenimiento    Duracion_Horas  Ubicacion\n",
      "----  ----------  -----------  -------------------  --------------------  ---------------------  ----------------  ------------\n",
      "1437        1438          128  2020-02-29 21:00:00  Preventivo                          9674.38                 1  Planta Oeste\n",
      "1468        1469          128  2020-03-02 04:00:00  Preventivo                           nan                    1  Planta Norte\n",
      "        ID_Orden    ID_Equipo  Fecha                Tipo_Mantenimiento      Costo_Mantenimiento    Duracion_Horas  Ubicacion\n",
      "----  ----------  -----------  -------------------  --------------------  ---------------------  ----------------  ------------\n",
      "2027        2028          413  2020-03-25 11:00:00  Correctivo                           nan                   26  Planta Norte\n",
      "6699        6700          413  2020-10-06 03:00:00  Correctivo                          3228.58                26  Planta Sur\n",
      "        ID_Orden    ID_Equipo  Fecha                Tipo_Mantenimiento      Costo_Mantenimiento    Duracion_Horas  Ubicacion\n",
      "----  ----------  -----------  -------------------  --------------------  ---------------------  ----------------  ------------\n",
      "2080        2081          343  2020-03-27 16:00:00  Preventivo                           nan                   45  Planta Norte\n",
      "5416        5417          343  2020-08-13 16:00:00  Correctivo                          3077.53                45  Planta Este\n",
      "        ID_Orden    ID_Equipo  Fecha                Tipo_Mantenimiento      Costo_Mantenimiento    Duracion_Horas  Ubicacion\n",
      "----  ----------  -----------  -------------------  --------------------  ---------------------  ----------------  ------------\n",
      "2098        2099          196  2020-03-28 10:00:00  Preventivo                           nan                   44  Planta Oeste\n",
      "3098        3099          196  2020-05-09 02:00:00  Preventivo                          8298.17                44  Planta Oeste\n",
      "        ID_Orden    ID_Equipo  Fecha                Tipo_Mantenimiento      Costo_Mantenimiento    Duracion_Horas  Ubicacion\n",
      "----  ----------  -----------  -------------------  --------------------  ---------------------  ----------------  ------------\n",
      "3124        3125          232  2020-05-10 04:00:00  Correctivo                           nan                   46  Planta Norte\n",
      "9660        9661          232  2021-02-06 12:00:00  Preventivo                          8880.91                46  Planta Sur\n",
      "        ID_Orden    ID_Equipo  Fecha                Tipo_Mantenimiento      Costo_Mantenimiento    Duracion_Horas  Ubicacion\n",
      "----  ----------  -----------  -------------------  --------------------  ---------------------  ----------------  ------------\n",
      " 190         191          180  2020-01-08 22:00:00  Correctivo                          8133.97                 8  Planta Norte\n",
      "1049        1050          180  2020-02-13 17:00:00  Preventivo                          7792.94                 8  Planta Oeste\n",
      "4484        4485          180  2020-07-05 20:00:00  Correctivo                           nan                    8  Planta Este\n",
      "        ID_Orden    ID_Equipo  Fecha                Tipo_Mantenimiento      Costo_Mantenimiento    Duracion_Horas  Ubicacion\n",
      "----  ----------  -----------  -------------------  --------------------  ---------------------  ----------------  -----------\n",
      "4661        4662          353  2020-07-13 05:00:00  Preventivo                            nan                   3  Planta Sur\n",
      "5865        5866          353  2020-09-01 09:00:00  Correctivo                           5152.4                 3  Planta Sur\n",
      "        ID_Orden    ID_Equipo  Fecha                Tipo_Mantenimiento      Costo_Mantenimiento    Duracion_Horas  Ubicacion\n",
      "----  ----------  -----------  -------------------  --------------------  ---------------------  ----------------  ------------\n",
      "5401        5402          345  2020-08-13 01:00:00  Correctivo                           nan                    4  Planta Norte\n",
      "8957        8958          345  2021-01-08 05:00:00  Preventivo                           454.97                 4  Planta Norte\n",
      "        ID_Orden    ID_Equipo  Fecha                Tipo_Mantenimiento      Costo_Mantenimiento    Duracion_Horas  Ubicacion\n",
      "----  ----------  -----------  -------------------  --------------------  ---------------------  ----------------  ------------\n",
      "1442        1443          166  2020-03-01 02:00:00  Preventivo                          2061.99                46  Planta Norte\n",
      "5601        5602          166  2020-08-21 09:00:00  Correctivo                           nan                   46  Planta Este\n",
      "        ID_Orden    ID_Equipo  Fecha                Tipo_Mantenimiento      Costo_Mantenimiento    Duracion_Horas  Ubicacion\n",
      "----  ----------  -----------  -------------------  --------------------  ---------------------  ----------------  -----------\n",
      "  40          41           37  2020-01-02 16:00:00  Correctivo                          1427.58                40  Planta Sur\n",
      "6065        6066           37  2020-09-09 17:00:00  Correctivo                           nan                   40  Planta Este\n",
      "        ID_Orden    ID_Equipo  Fecha                Tipo_Mantenimiento      Costo_Mantenimiento    Duracion_Horas  Ubicacion\n",
      "----  ----------  -----------  -------------------  --------------------  ---------------------  ----------------  ------------\n",
      "7438        7439          230  2020-11-05 22:00:00  Preventivo                            nan                  11  Planta Este\n",
      "9213        9214          230  2021-01-18 21:00:00  Correctivo                           7491.8                11  Planta Oeste\n",
      "        ID_Orden    ID_Equipo  Fecha                Tipo_Mantenimiento      Costo_Mantenimiento    Duracion_Horas  Ubicacion\n",
      "----  ----------  -----------  -------------------  --------------------  ---------------------  ----------------  ------------\n",
      "7637        7638          492  2020-11-14 05:00:00  Preventivo                           nan                    6  Planta Este\n",
      "7674        7675          492  2020-11-15 18:00:00  Preventivo                          9073.16                 6  Planta Oeste\n",
      "        ID_Orden    ID_Equipo  Fecha                Tipo_Mantenimiento      Costo_Mantenimiento    Duracion_Horas  Ubicacion\n",
      "----  ----------  -----------  -------------------  --------------------  ---------------------  ----------------  -----------\n",
      "3082        3083          191  2020-05-08 10:00:00  Correctivo                           740.09                25  Planta Este\n",
      "7891        7892          191  2020-11-24 19:00:00  Preventivo                           nan                   25  Planta Sur\n",
      "        ID_Orden    ID_Equipo  Fecha                Tipo_Mantenimiento      Costo_Mantenimiento    Duracion_Horas  Ubicacion\n",
      "----  ----------  -----------  -------------------  --------------------  ---------------------  ----------------  ------------\n",
      "1993        1994          304  2020-03-24 01:00:00  Correctivo                          1342.57                38  Planta Sur\n",
      "3996        3997          304  2020-06-15 12:00:00  Preventivo                          2794.11                38  Planta Sur\n",
      "9515        9516          304  2021-01-31 11:00:00  Correctivo                           nan                   38  Planta Norte\n",
      "        ID_Orden    ID_Equipo  Fecha                Tipo_Mantenimiento      Costo_Mantenimiento    Duracion_Horas  Ubicacion\n",
      "----  ----------  -----------  -------------------  --------------------  ---------------------  ----------------  -----------\n",
      "7713        7714          457  2020-11-17 09:00:00  Preventivo                          4727.86                16  Planta Sur\n",
      "8326        8327          457  2020-12-12 22:00:00  Preventivo                          1963.16                16  Planta Este\n",
      "9732        9733          457  2021-02-09 12:00:00  Preventivo                           nan                   16  Planta Sur\n",
      "        ID_Orden    ID_Equipo  Fecha                Tipo_Mantenimiento      Costo_Mantenimiento    Duracion_Horas  Ubicacion\n",
      "----  ----------  -----------  -------------------  --------------------  ---------------------  ----------------  ------------\n",
      "8906        8907          157  2021-01-06 02:00:00  Correctivo                          8107.61                36  Planta Oeste\n",
      "9896        9897          157  2021-02-16 08:00:00  Correctivo                           nan                   36  Planta Norte\n",
      "\n",
      "Sumatorio de filas NaN que han coincidido: 17\n"
     ]
    }
   ],
   "source": [
    "# Busco filas que tengan el mismo ID_Equipo + Duracion_Horas que la fila con Costo_Mantenimiento vacío y además muestro al final su sumatorio\n",
    "\n",
    "# Filtrar filas con Costo_Mantenimiento vacío\n",
    "filas_vacias = ordenes_df[ordenes_df['Costo_Mantenimiento'].isna()]\n",
    "\n",
    "# Inicializar contador de coincidencias\n",
    "nan_coincidencias = 0\n",
    "\n",
    "# Buscar coincidencias en todo el DataFrame\n",
    "for index, row in filas_vacias.iterrows():\n",
    "    coincidencias1 = ordenes_df[(ordenes_df['ID_Equipo'] == row['ID_Equipo']) & \n",
    "                               (ordenes_df['Duracion_Horas'] == row['Duracion_Horas'])]\n",
    "    if len(coincidencias1) > 1:\n",
    "        print(tabulate(coincidencias1, headers='keys'))\n",
    "        nan_coincidencias += 1\n",
    "\n",
    "# Mostrar el sumatorio de las filas NaN que han coincidido\n",
    "print(f'\\nSumatorio de filas NaN que han coincidido: {nan_coincidencias}')"
   ]
  },
  {
   "cell_type": "code",
   "execution_count": 105,
   "metadata": {},
   "outputs": [
    {
     "name": "stdout",
     "output_type": "stream",
     "text": [
      "ID_Orden    ID_Equipo    Fecha    Tipo_Mantenimiento    Costo_Mantenimiento    Duracion_Horas    Ubicacion\n",
      "----------  -----------  -------  --------------------  ---------------------  ----------------  -----------\n"
     ]
    }
   ],
   "source": [
    "# Primero sustituyo el valor de Costo_Mantenimiento vacío por el valor de la línea que coincida ID_Equipo + Duración_Horas + Ubicación\n",
    "\n",
    "ordenes_df_clean = pd.DataFrame(ordenes_df)\n",
    "\n",
    "# Filtrar filas con Costo_Mantenimiento vacío\n",
    "filas_vacias = ordenes_df_clean[ordenes_df_clean['Costo_Mantenimiento'].isna()]\n",
    "\n",
    "# Buscar coincidencias en todo el DataFrame y reemplazar valores vacíos\n",
    "for index, row in filas_vacias.iterrows():\n",
    "    coincidencias2 = ordenes_df_clean[(ordenes_df_clean['ID_Equipo'] == row['ID_Equipo']) & \n",
    "                                (ordenes_df_clean['Duracion_Horas'] == row['Duracion_Horas']) &\n",
    "                                (ordenes_df_clean['Ubicacion'] == row['Ubicacion']) & \n",
    "                                (ordenes_df_clean['Costo_Mantenimiento'].notna())]\n",
    "    if not coincidencias2.empty:\n",
    "        # Reemplazar el valor vacío en ordenes_df_clean con el valor de la primera coincidencia encontrada\n",
    "        ordenes_df_clean.at[index, 'Costo_Mantenimiento'] = coincidencias2.iloc[0]['Costo_Mantenimiento']\n",
    "\n",
    "# Verificar los cambios\n",
    "print(tabulate(coincidencias2, headers='keys'))"
   ]
  },
  {
   "cell_type": "code",
   "execution_count": 106,
   "metadata": {},
   "outputs": [],
   "source": [
    "# Segundo sustituyo el valor de Costo_Mantenimiento vacío por el valor de la línea que coincida ID_Equipo + Duración_Horas\n",
    "\n",
    "# Filtrar filas con Costo_Mantenimiento vacío\n",
    "filas_vacias = ordenes_df_clean[ordenes_df_clean['Costo_Mantenimiento'].isna()]\n",
    "\n",
    "# Buscar coincidencias en todo el DataFrame y reemplazar valores vacíos\n",
    "for index, row in filas_vacias.iterrows():\n",
    "    coincidencias3 = ordenes_df_clean[(ordenes_df_clean['ID_Equipo'] == row['ID_Equipo']) & \n",
    "                               (ordenes_df_clean['Duracion_Horas'] == row['Duracion_Horas']) &\n",
    "                               (ordenes_df_clean['Costo_Mantenimiento'].notna())]\n",
    "    if not coincidencias3.empty:\n",
    "        # Reemplazar el valor vacío con el valor de la primera coincidencia encontrada\n",
    "        ordenes_df_clean.at[index, 'Costo_Mantenimiento'] = coincidencias3.iloc[0]['Costo_Mantenimiento']\n",
    "\n"
   ]
  },
  {
   "cell_type": "code",
   "execution_count": 107,
   "metadata": {},
   "outputs": [
    {
     "name": "stdout",
     "output_type": "stream",
     "text": [
      "Datos vacios en Caracteristicas_Equipos.csv\n",
      " ID_Orden                0\n",
      "ID_Equipo               0\n",
      "Fecha                   0\n",
      "Tipo_Mantenimiento      0\n",
      "Costo_Mantenimiento    33\n",
      "Duracion_Horas          0\n",
      "Ubicacion               0\n",
      "dtype: int64\n"
     ]
    }
   ],
   "source": [
    "# Vuelvo a revisar los datos vacíos donde ya he sustituidos los anteirores\n",
    "print('Datos vacios en Caracteristicas_Equipos.csv\\n',ordenes_df_clean.isna().sum())"
   ]
  },
  {
   "cell_type": "code",
   "execution_count": null,
   "metadata": {},
   "outputs": [],
   "source": [
    "# Filtrar filas duplicadas basadas en las columnas ID_Equipo y Duracion_Horas\n",
    "duplicados = ordenes_df[ordenes_df.duplicated(subset=['ID_Equipo', 'Duracion_Horas'], keep=False)]\n",
    "\n",
    "# Mostrar las filas duplicadas\n",
    "duplicados\n"
   ]
  },
  {
   "cell_type": "code",
   "execution_count": null,
   "metadata": {},
   "outputs": [],
   "source": [
    "# Mostrar todas las filas duplicadas\n",
    "print('\\nSumatorio duplicados en sales', ordenes_df.duplicated().sum())\n",
    "ordenes_df[ordenes_df.duplicated(keep=False)]"
   ]
  },
  {
   "cell_type": "code",
   "execution_count": null,
   "metadata": {},
   "outputs": [],
   "source": [
    "# Extremos\n",
    "z_scores = (ordenes_df-ordenes_df.mean(numeric_only=True)) / \\\n",
    "    ordenes_df.std(numeric_only=True)\n",
    "z_scores_abs = z_scores.apply(np.abs)\n",
    "print(tabulate(z_scores_abs, headers='keys'))"
   ]
  },
  {
   "cell_type": "code",
   "execution_count": null,
   "metadata": {},
   "outputs": [],
   "source": [
    "umbral = 3\n",
    "\n",
    "out_mask = ~z_scores[z_scores_abs > umbral].isna()\n",
    "print('\\nOutliers per column:\\n')\n",
    "print(out_mask.sum())"
   ]
  }
 ],
 "metadata": {
  "kernelspec": {
   "display_name": "base",
   "language": "python",
   "name": "python3"
  },
  "language_info": {
   "codemirror_mode": {
    "name": "ipython",
    "version": 3
   },
   "file_extension": ".py",
   "mimetype": "text/x-python",
   "name": "python",
   "nbconvert_exporter": "python",
   "pygments_lexer": "ipython3",
   "version": "3.12.7"
  }
 },
 "nbformat": 4,
 "nbformat_minor": 2
}
